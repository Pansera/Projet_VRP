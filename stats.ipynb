{
 "cells": [
  {
   "cell_type": "code",
   "execution_count": 1,
   "metadata": {},
   "outputs": [],
   "source": [
    "from matplotlib import pyplot as plt"
   ]
  },
  {
   "cell_type": "code",
   "execution_count": 2,
   "metadata": {},
   "outputs": [],
   "source": [
    "import math\n",
    "import re"
   ]
  },
  {
   "cell_type": "code",
   "execution_count": 3,
   "metadata": {},
   "outputs": [],
   "source": [
    "import numpy as np"
   ]
  },
  {
   "cell_type": "code",
   "execution_count": 4,
   "metadata": {
    "scrolled": true
   },
   "outputs": [],
   "source": [
    "# Unplot 0 values\n",
    "def zeroToNan(values):\n",
    "    return [float('nan') if float(x)==0 else x for x in values]\n",
    "\n",
    "# Dictionnary to array\n",
    "def dicToArray(values):\n",
    "    temp = []\n",
    "    for i in values:\n",
    "        temp.append(float(values[str(i)]))\n",
    "    return temp\n",
    "\n",
    "# Data dict generation\n",
    "data = {}\n",
    "# Capacity from 10 to 20\n",
    "for i in range(10, 21):\n",
    "    data[str(i)] = {}\n",
    "    # Clients from 0 to 20\n",
    "    for j in range(0, 21):\n",
    "        data[str(i)][str(j)] = \"0\"\n",
    "        \n",
    "\n",
    "# all source files\n",
    "# lines[-3] s.group(1) Seconds\n",
    "# lines[-2] Clients\n",
    "# lines[-1] Capacity\n",
    "for i in range(1, 55):\n",
    "    f = open(\"sources/source\" + str(i) + \".txt\", \"r\")\n",
    "    lines = f.readlines()\n",
    "    f.close()\n",
    "\n",
    "    s = re.search('([\\d.]{4,10}) sec', lines[-3])\n",
    "    data[str(lines[-1]).replace(\"\\n\",\"\")][str(lines[-2]).replace(\"\\n\",\"\")] = s.group(1)\n",
    "\n",
    "# [*data[\"10\"]] keys\n",
    "\n",
    "colors = {\n",
    "    '10': '#FF0000',\n",
    "    '11': '#EE0000',\n",
    "    '12': '#DD0000',\n",
    "    '13': '#CC0000',\n",
    "    '14': '#BB0000',\n",
    "    '15': '#AA0000',\n",
    "    '16': '#990000',\n",
    "    '17': '#880000',\n",
    "    '18': '#770000',\n",
    "    '19': '#660000',\n",
    "    '20': '#550000'\n",
    "};"
   ]
  },
  {
   "cell_type": "code",
   "execution_count": 11,
   "metadata": {
    "scrolled": true
   },
   "outputs": [
    {
     "data": {
      "image/png": "[encoded data removed]",
      "text/plain": [
       "<Figure size 432x288 with 1 Axes>"
      ]
     },
     "metadata": {
      "needs_background": "light"
     },
     "output_type": "display_data"
    },
    {
     "data": {
      "image/png": "[encoded data removed]",
      "text/plain": [
       "<Figure size 432x288 with 1 Axes>"
      ]
     },
     "metadata": {
      "needs_background": "light"
     },
     "output_type": "display_data"
    }
   ],
   "source": [
    "for i in range(10, 21):\n",
    "    plt.plot([*data[str(i)]], zeroToNan(dicToArray(data[str(i)])), 'o', color=colors[str(i)])\n",
    "\n",
    "plt.title('Execution time according to customers and truck capacity')\n",
    "plt.xlabel('Customers')\n",
    "plt.ylabel(\"Time (s)\")\n",
    "plt.show()\n",
    "\n",
    "plt.plot([*data[\"10\"]], zeroToNan(dicToArray(data[\"10\"])), 'o', color=colors[\"10\"])\n",
    "plt.title('Execution time according to customers with Q = 10')\n",
    "plt.xlabel('Customers')\n",
    "plt.ylabel(\"Time (s)\")\n",
    "plt.show()"
   ]
  },
  {
   "cell_type": "markdown",
   "metadata": {},
   "source": [
    "# Résultats d'analyse"
   ]
  },
  {
   "cell_type": "markdown",
   "metadata": {},
   "source": [
    "Nous avons procédé à des tests sur un jeu de données avec des clients compris entre 1 et 20 et une capacité comprise entre 10 et 20. Le temps d'exécution est dépendant du nombre de clients et de la capacité des camions. Sur le graphique, plus les points sont sombres, plus la capacité est proche de 20. Le temps augmente de façon exponentielle suivant la capacité et les clients. En effet, la complexité de l'algorithme est exponentielle."
   ]
  },
  {
   "cell_type": "code",
   "execution_count": null,
   "metadata": {},
   "outputs": [],
   "source": []
  }
 ],
 "metadata": {
  "kernelspec": {
   "display_name": "Python 3",
   "language": "python",
   "name": "python3"
  },
  "language_info": {
   "codemirror_mode": {
    "name": "ipython",
    "version": 3
   },
   "file_extension": ".py",
   "mimetype": "text/x-python",
   "name": "python",
   "nbconvert_exporter": "python",
   "pygments_lexer": "ipython3",
   "version": "3.7.3"
  }
 },
 "nbformat": 4,
 "nbformat_minor": 2
}
