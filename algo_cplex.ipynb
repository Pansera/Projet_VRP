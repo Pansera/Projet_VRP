{
 "cells": [
  {
   "cell_type": "markdown",
   "metadata": {},
   "source": [
    "#VRP PROBLEM\n",
    "\n",
    "<img src=\"http://neo.lcc.uma.es/dynamic/images/vrp.png\" width=\"400\" />\n",
    "\n",
    "- $n$ is the number of clientes\n",
    "- $N$ is set of clients, with $N=\\{1,2,...,n\\}$\n",
    "- $V$ is set of nodes, with $V=\\{0\\}\\cup N$\n",
    "- $A$ is set of arcs, with $A=\\{(i,j)\\in V^2 : i\\neq j\\}$\n",
    "- $c_{ij}$ is cost of travel over arc $(i,j)\\in A$\n",
    "- $Q$ is the vehicle capacity\n",
    "- $q_i$ is the amount that has to be delivered to customer $i\\in N$\n",
    "\n",
    "The formulation is the following :\n",
    "$$\\begin{align}\n",
    "\\min \\quad & \\sum_{i,j\\in A} c_{ij} x_{ij} \\\\\n",
    "\\text{s.t.} \\quad & \\sum_{j\\in V , j\\neq i} x_{ij} = 1 && i \\in N \\\\\n",
    "& \\sum_{i\\in V , i\\neq j} x_{ij} = 1 && j \\in N \\\\\n",
    "& \\text{if} \\ x_{ij} = 1 \\ \\Rightarrow \\ u_i + q_j = u_j && i,j \\in A : j\\neq 0, i\\neq 0 \\\\\n",
    "& q_i \\leq u_i \\leq Q && i \\in N \\\\\n",
    "& x_{ij} \\in \\{0,1\\} && i,j \\in A\n",
    "\\end{align}$$"
   ]
  },
  {
   "cell_type": "code",
   "execution_count": 1,
   "metadata": {},
   "outputs": [
    {
     "name": "stdout",
     "output_type": "stream",
     "text": [
      "Entrez le nombre de clients: 5\n",
      "Saisir la capacité d'un véhicule: 10\n"
     ]
    }
   ],
   "source": [
    "nb_client = int(input('Entrez le nombre de clients: '))\n",
    "nb_capacity = int(input('Saisir la capacité d\\'un véhicule: '))"
   ]
  },
  {
   "cell_type": "code",
   "execution_count": null,
   "metadata": {},
   "outputs": [],
   "source": [
    "# on importe le paquet numpy en tant que np\n",
    "import numpy as np"
   ]
  },
  {
   "cell_type": "code",
   "execution_count": 75,
   "metadata": {},
   "outputs": [],
   "source": [
    "# rnd est un objet qui génère des nombres aléatoires\n",
    "rnd = np.random\n",
    "# seed (0) est une méthode qui réinitialise à chaque fois le même ensemble aléatoire de nombres (rnd)\n",
    "rnd.seed(0)"
   ]
  },
  {
   "cell_type": "code",
   "execution_count": 76,
   "metadata": {},
   "outputs": [],
   "source": [
    "# nombre de clients\n",
    "n = nb_client\n",
    "# Capacité maximale du véhicule\n",
    "Q = nb_capacity\n",
    "# tous les noeuds = les clients sans le dépôt\n",
    "N = [i for i in range(1,n+1)]\n",
    "# tous les noeuds avec le dépôt\n",
    "V = [0] + N\n",
    "# collection qui contient ce que chaque client (noeud) demande\n",
    "q = {i:rnd.randint(1,10) for i in N}"
   ]
  },
  {
   "cell_type": "code",
   "execution_count": 77,
   "metadata": {},
   "outputs": [],
   "source": [
    "# génération de nombres aléatoires entre (0 et 15) * 200\n",
    "loc_x = rnd.rand(len(V))*200\n",
    "# génération de nombres aléatoires entre (0 et 15) * 100\n",
    "loc_y = rnd.rand(len(V))*100"
   ]
  },
  {
   "cell_type": "code",
   "execution_count": 78,
   "metadata": {},
   "outputs": [],
   "source": [
    "# on importe le package matplot.pyplot en tant que plt\n",
    "import matplotlib.pyplot as plt"
   ]
  },
  {
   "cell_type": "code",
   "execution_count": 79,
   "metadata": {},
   "outputs": [
    {
     "data": {
      "image/png": "[encoded data removed]",
      "text/plain": [
       "<Figure size 432x288 with 1 Axes>"
      ]
     },
     "metadata": {
      "needs_background": "light"
     },
     "output_type": "display_data"
    }
   ],
   "source": [
    "# on trace les n noeuds (clients) sans le noeuds 0 (dépôt) et on choisie que chaque noeud soit bleu \n",
    "plt.scatter(loc_x[1:],loc_y[1:],c='b')\n",
    "# on associe et on écrit la demande de chaque client à droite du noeud\n",
    "for i in N:\n",
    "    plt.annotate('$q_%d=%d$'%(i,q[i]),(loc_x[i]+2, loc_y[i]))\n",
    "# le noeud 0 (dépôt) est représenté par un carré rouge\n",
    "plt.plot(loc_x[0],loc_y[0],c='r',marker='s')\n",
    "plt.axis('equal');"
   ]
  },
  {
   "cell_type": "code",
   "execution_count": 80,
   "metadata": {},
   "outputs": [],
   "source": [
    "# Initialisation de l'ensemble des arcs A\n",
    "A = [(i,j) for i in V for j in V if i!=j]\n",
    "c = {(i, j):np.hypot(loc_x[i]-loc_x[j],loc_y[i]-loc_y[j]) for i,j in A}"
   ]
  },
  {
   "cell_type": "code",
   "execution_count": 2,
   "metadata": {},
   "outputs": [],
   "source": [
    "# on importe le docplex.mp.model à partir du CPLEX en tant que Model\n",
    "from docplex.mp.model import Model"
   ]
  },
  {
   "cell_type": "code",
   "execution_count": 82,
   "metadata": {},
   "outputs": [],
   "source": [
    "mdl = Model('CVRP')"
   ]
  },
  {
   "cell_type": "code",
   "execution_count": 83,
   "metadata": {},
   "outputs": [],
   "source": [
    "# Initialisation de la variable binaire x_i, j\n",
    "x = mdl.binary_var_dict(A,name='x')\n",
    "#Initialisation de la demande cumulative u\n",
    "u = mdl.continuous_var_dict(N,ub=Q,name='u')"
   ]
  },
  {
   "cell_type": "code",
   "execution_count": 84,
   "metadata": {},
   "outputs": [
    {
     "name": "stdout",
     "output_type": "stream",
     "text": [
      "CPXPARAM_Read_DataCheck                          1\n",
      "CPXPARAM_RandomSeed                              201804051\n",
      "CPXPARAM_TimeLimit                               15\n",
      "Found incumbent of value 1784.255531 after 0.00 sec. (0.01 ticks)\n",
      "Tried aggregator 2 times.\n",
      "MIP Presolve eliminated 10 rows and 0 columns.\n",
      "MIP Presolve modified 45 coefficients.\n",
      "Aggregator did 45 substitutions.\n",
      "Reduced MIP has 65 rows, 165 columns, and 335 nonzeros.\n",
      "Reduced MIP has 110 binaries, 0 generals, 0 SOSs, and 90 indicators.\n",
      "Presolve time = 0.02 sec. (0.35 ticks)\n",
      "Probing time = 0.00 sec. (0.33 ticks)\n",
      "Tried aggregator 1 time.\n",
      "Reduced MIP has 65 rows, 165 columns, and 335 nonzeros.\n",
      "Reduced MIP has 110 binaries, 0 generals, 0 SOSs, and 90 indicators.\n",
      "Presolve time = 0.00 sec. (0.23 ticks)\n",
      "Probing time = 0.00 sec. (0.31 ticks)\n",
      "Clique table members: 65.\n",
      "MIP emphasis: balance optimality and feasibility.\n",
      "MIP search method: dynamic search.\n",
      "Parallel mode: deterministic, using up to 8 threads.\n",
      "Root relaxation solution time = 0.02 sec. (0.14 ticks)\n",
      "\n",
      "        Nodes                                         Cuts/\n",
      "   Node  Left     Objective  IInf  Best Integer    Best Bound    ItCnt     Gap\n",
      "\n",
      "*     0+    0                         1784.2555        0.0000           100.00%\n",
      "      0     0      456.3031    10     1784.2555      456.3031       15   74.43%\n",
      "      0     0      477.8467     8     1784.2555      Cuts: 23       26   73.22%\n",
      "      0     0      477.8467    14     1784.2555      Cuts: 18       38   73.22%\n",
      "      0     0      477.8467    12     1784.2555       Cuts: 3       39   73.22%\n",
      "*     0+    0                          875.2215      477.8467            45.40%\n",
      "*     0+    0                          770.3893      477.8467            37.97%\n",
      "      0     2      477.8467    12      770.3893      477.8467       39   37.97%\n",
      "Elapsed time = 0.08 sec. (3.99 ticks, tree = 0.02 MB, solutions = 3)\n",
      "*   557+  124                          731.9062      481.2282            34.25%\n",
      "*   945   274      integral     0      726.2486      483.2994     1612   33.45%\n",
      "\n",
      "Clique cuts applied:  1\n",
      "Cover cuts applied:  74\n",
      "Implied bound cuts applied:  136\n",
      "Mixed integer rounding cuts applied:  1\n",
      "Zero-half cuts applied:  1\n",
      "Gomory fractional cuts applied:  11\n",
      "\n",
      "Root node processing (before b&c):\n",
      "  Real time             =    0.09 sec. (3.95 ticks)\n",
      "Parallel b&c, 8 threads:\n",
      "  Real time             =    0.59 sec. (172.83 ticks)\n",
      "  Sync time (average)   =    0.13 sec.\n",
      "  Wait time (average)   =    0.01 sec.\n",
      "                          ------------\n",
      "Total (root+branch&cut) =    0.69 sec. (176.78 ticks)\n"
     ]
    }
   ],
   "source": [
    "# Initialisation de la fonction objectif\n",
    "mdl.minimize(mdl.sum(c[i,j]*x[i,j] for i,j in A))\n",
    "# Initialisation de la première contrainte\n",
    "mdl.add_constraints(mdl.sum(x[i,j] for j in V if j!=i)==1 for i in N)\n",
    "# Initialisation de la deuxième contrainte\n",
    "mdl.add_constraints(mdl.sum(x[i,j] for i in V if i!=j)==1 for j in N)\n",
    "# Initialisation de la troisième contrainte\n",
    "mdl.add_indicator_constraints(mdl.indicator_constraint(x[i,j],u[i]+q[j]==u[j]) for i,j in A if i!=0 and j!=0)\n",
    "#Initialisation de la quatrième contrainte\n",
    "mdl.add_constraints(u[i]>=q[i] for i in N)\n",
    "# limiteur de temps au cas où la méthode dure trop longtemps\n",
    "mdl.parameters.timelimit = 15\n",
    "# on obtient la solution\n",
    "solution = mdl.solve(log_output=True)"
   ]
  },
  {
   "cell_type": "code",
   "execution_count": 85,
   "metadata": {
    "scrolled": false
   },
   "outputs": [
    {
     "name": "stdout",
     "output_type": "stream",
     "text": [
      "solution for: CVRP\n",
      "objective: 726.249\n",
      "x_0_4=1\n",
      "x_0_5=1\n",
      "x_0_10=1\n",
      "x_1_0=1\n",
      "x_2_0=1\n",
      "x_3_0=1\n",
      "x_4_8=1\n",
      "x_5_3=1\n",
      "x_6_1=1\n",
      "x_7_9=1\n",
      "x_8_7=1\n",
      "x_9_2=1\n",
      "x_10_6=1\n",
      "u_1=18.000\n",
      "u_2=19.000\n",
      "u_3=20.000\n",
      "u_4=4.000\n",
      "u_5=16.000\n",
      "u_6=12.000\n",
      "u_7=13.000\n",
      "u_8=7.000\n",
      "u_9=18.000\n",
      "u_10=8.000\n",
      "\n"
     ]
    }
   ],
   "source": [
    "# Impression de la solution\n",
    "print(solution)"
   ]
  },
  {
   "cell_type": "code",
   "execution_count": 86,
   "metadata": {},
   "outputs": [
    {
     "data": {
      "text/plain": [
       "<JobSolveStatus.OPTIMAL_SOLUTION: 2>"
      ]
     },
     "execution_count": 86,
     "metadata": {},
     "output_type": "execute_result"
    }
   ],
   "source": [
    "# Indicateur de solution optimal ou non (2 = optimal, 1 = non-optimal)\n",
    "solution.solve_status"
   ]
  },
  {
   "cell_type": "code",
   "execution_count": 87,
   "metadata": {},
   "outputs": [],
   "source": [
    "# on identifie les arrêtes actives\n",
    "active_arcs = [a for a in A if x[a].solution_value>0.9]"
   ]
  },
  {
   "cell_type": "code",
   "execution_count": 88,
   "metadata": {
    "scrolled": true
   },
   "outputs": [
    {
     "data": {
      "image/png": "[encoded data removed]",
      "text/plain": [
       "<Figure size 432x288 with 1 Axes>"
      ]
     },
     "metadata": {
      "needs_background": "light"
     },
     "output_type": "display_data"
    }
   ],
   "source": [
    "plt.scatter(loc_x[1:],loc_y[1:],c='b')\n",
    "for i in N:\n",
    "    plt.annotate('$q_%d=%d$'%(i,q[i]),(loc_x[i]+2, loc_y[i]))\n",
    "    for i,j in active_arcs:\n",
    "        # on met en couleur les arrêtes actives\n",
    "        plt.plot([loc_x[i], loc_x[j]],[loc_y[i],loc_y[j]],c='g',alpha=0.3)\n",
    "    plt.plot(loc_x[0],loc_y[0],c='r',marker='s')\n",
    "    plt.axis('equal');"
   ]
  }
 ],
 "metadata": {
  "kernelspec": {
   "display_name": "Python 3",
   "language": "python",
   "name": "python3"
  },
  "language_info": {
   "codemirror_mode": {
    "name": "ipython",
    "version": 3
   },
   "file_extension": ".py",
   "mimetype": "text/x-python",
   "name": "python",
   "nbconvert_exporter": "python",
   "pygments_lexer": "ipython3",
   "version": "3.7.3"
  }
 },
 "nbformat": 4,
 "nbformat_minor": 2
}
