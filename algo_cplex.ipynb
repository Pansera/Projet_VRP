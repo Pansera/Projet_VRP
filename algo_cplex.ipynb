{
 "cells": [
  {
   "cell_type": "markdown",
   "metadata": {},
   "source": [
    "#VRP PROBLEM\n",
    "\n",
    "<img src=\"http://neo.lcc.uma.es/dynamic/images/vrp.png\" width=\"400\" />\n",
    "\n",
    "- $n$ is the number of clientes\n",
    "- $N$ is set of clients, with $N=\\{1,2,...,n\\}$\n",
    "- $V$ is set of nodes, with $V=\\{0\\}\\cup N$\n",
    "- $A$ is set of arcs, with $A=\\{(i,j)\\in V^2 : i\\neq j\\}$\n",
    "- $c_{ij}$ is cost of travel over arc $(i,j)\\in A$\n",
    "- $Q$ is the vehicle capacity\n",
    "- $q_i$ is the amount that has to be delivered to customer $i\\in N$\n",
    "\n",
    "The formulation is the following :\n",
    "$$\\begin{align}\n",
    "\\min \\quad & \\sum_{i,j\\in A} c_{ij} x_{ij} \\\\\n",
    "\\text{s.t.} \\quad & \\sum_{j\\in V , j\\neq i} x_{ij} = 1 && i \\in N \\\\\n",
    "& \\sum_{i\\in V , i\\neq j} x_{ij} = 1 && j \\in N \\\\\n",
    "& \\text{if} \\ x_{ij} = 1 \\ \\Rightarrow \\ u_i + q_j = u_j && i,j \\in A : j\\neq 0, i\\neq 0 \\\\\n",
    "& q_i \\leq u_i \\leq Q && i \\in N \\\\\n",
    "& x_{ij} \\in \\{0,1\\} && i,j \\in A\n",
    "\\end{align}$$"
   ]
  },
  {
   "cell_type": "code",
   "execution_count": 1,
   "metadata": {},
   "outputs": [
    {
     "name": "stdout",
     "output_type": "stream",
     "text": [
      "Entrez le nombre de clients: 12\n",
      "Saisir la capacité d'un véhicule: 15\n"
     ]
    }
   ],
   "source": [
    "# entrée du nombre de client et de la capacité du véhicule\n",
    "nb_client = int(input('Entrez le nombre de clients: '))\n",
    "nb_capacity = int(input('Saisir la capacité d\\'un véhicule: '))"
   ]
  },
  {
   "cell_type": "code",
   "execution_count": 2,
   "metadata": {},
   "outputs": [],
   "source": [
    "# on importe le paquet numpy en tant que np\n",
    "import numpy as np"
   ]
  },
  {
   "cell_type": "code",
   "execution_count": 3,
   "metadata": {},
   "outputs": [],
   "source": [
    "# rnd est un objet qui génère des nombres aléatoires\n",
    "rnd = np.random\n",
    "# seed (0) est une méthode qui réinitialise à chaque fois le même ensemble aléatoire de nombres (rnd)\n",
    "rnd.seed(0)"
   ]
  },
  {
   "cell_type": "code",
   "execution_count": 4,
   "metadata": {},
   "outputs": [],
   "source": [
    "# nombre de clients\n",
    "n = nb_client\n",
    "# Capacité maximale du véhicule\n",
    "Q = nb_capacity\n",
    "# tous les noeuds = les clients sans le dépôt\n",
    "N = [i for i in range(1,n+1)]\n",
    "# tous les noeuds avec le dépôt\n",
    "V = [0] + N\n",
    "# collection qui contient ce que chaque client (noeud) demande\n",
    "q = {i:rnd.randint(1,10) for i in N}"
   ]
  },
  {
   "cell_type": "code",
   "execution_count": 5,
   "metadata": {},
   "outputs": [],
   "source": [
    "# génération de nombres aléatoires entre (0 et 15) * 200\n",
    "loc_x = rnd.rand(len(V))*200\n",
    "# génération de nombres aléatoires entre (0 et 15) * 100\n",
    "loc_y = rnd.rand(len(V))*100"
   ]
  },
  {
   "cell_type": "code",
   "execution_count": 6,
   "metadata": {},
   "outputs": [],
   "source": [
    "# on importe le package matplot.pyplot en tant que plt\n",
    "import matplotlib.pyplot as plt"
   ]
  },
  {
   "cell_type": "code",
   "execution_count": 7,
   "metadata": {
    "scrolled": true
   },
   "outputs": [
    {
     "data": {
      "image/png": "[encoded data removed]",
      "text/plain": [
       "<Figure size 432x288 with 1 Axes>"
      ]
     },
     "metadata": {
      "needs_background": "light"
     },
     "output_type": "display_data"
    }
   ],
   "source": [
    "# on trace les n noeuds (clients) et on choisie que chaque noeud soit bleu \n",
    "plt.scatter(loc_x[1:],loc_y[1:],c='b')\n",
    "# on associe et on écrit la demande de chaque client à droite du noeud\n",
    "for i in N:\n",
    "    plt.annotate('$q_%d=%d$'%(i,q[i]),(loc_x[i]+2, loc_y[i]))\n",
    "# le noeud 0 (dépôt) est représenté par un carré rouge\n",
    "plt.plot(loc_x[0],loc_y[0],c='r',marker='s')\n",
    "plt.axis('equal');"
   ]
  },
  {
   "cell_type": "code",
   "execution_count": 8,
   "metadata": {},
   "outputs": [],
   "source": [
    "# Initialisation de l'ensemble des arcs A\n",
    "A = [(i,j) for i in V for j in V if i!=j]\n",
    "c = {(i, j):np.hypot(loc_x[i]-loc_x[j],loc_y[i]-loc_y[j]) for i,j in A}"
   ]
  },
  {
   "cell_type": "code",
   "execution_count": 9,
   "metadata": {},
   "outputs": [],
   "source": [
    "# on importe le docplex.mp.model à partir du CPLEX en tant que Model\n",
    "from docplex.mp.model import Model"
   ]
  },
  {
   "cell_type": "code",
   "execution_count": 10,
   "metadata": {},
   "outputs": [],
   "source": [
    "mdl = Model('CVRP')"
   ]
  },
  {
   "cell_type": "code",
   "execution_count": 11,
   "metadata": {},
   "outputs": [],
   "source": [
    "# Initialisation de la variable binaire x_i, j\n",
    "x = mdl.binary_var_dict(A,name='x')\n",
    "#Initialisation de la demande cumulative u\n",
    "u = mdl.continuous_var_dict(N,ub=Q,name='u')"
   ]
  },
  {
   "cell_type": "code",
   "execution_count": 12,
   "metadata": {},
   "outputs": [
    {
     "name": "stderr",
     "output_type": "stream",
     "text": [
      "C:\\Users\\leons\\Anaconda3\\lib\\site-packages\\docplex\\mp\\model.py:3469: UserWarning: Unknown quick-setting in Context: trace_log, value: True\n",
      "  context.update_key_value(argname, argval)\n"
     ]
    }
   ],
   "source": [
    "# Initialisation de la fonction objectif (minimiser le total des coûts)\n",
    "mdl.minimize(mdl.sum(c[i,j]*x[i,j] for i,j in A))\n",
    "# Initialisation de la première contrainte (s'il y a un client, il faut y aller qu'une seule fois)\n",
    "mdl.add_constraints(mdl.sum(x[i,j] for j in V if j!=i)==1 for i in N)\n",
    "# Initialisation de la deuxième contrainte (si j'atteint un client, je devrai venir d'un autre client)\n",
    "mdl.add_constraints(mdl.sum(x[i,j] for i in V if i!=j)==1 for j in N)\n",
    "# Initialisation de la troisième contrainte (si on va d'un noeud ou client i à j, la demande cumulative u de j doit être égale à la \n",
    "# la demande cumulative de i + la quantité de marchandise demandé par j), autrement dit on vérifie qu'on peut toujours \n",
    "# livrer le prochain client)\n",
    "mdl.add_indicator_constraints(mdl.indicator_constraint(x[i,j],u[i]+q[j]==u[j]) for i,j in A if i!=0 and j!=0)\n",
    "#Initialisation de la quatrième contrainte (la demande cumulative ne doit jamais être supérieur à la capacité d'un camion)\n",
    "mdl.add_constraints(u[i]>=q[i] for i in N)\n",
    "# limiteur de temps au cas où la méthode dure trop longtemps\n",
    "# mdl.parameters.timelimit = 15\n",
    "# on obtient la solution\n",
    "file = \"source.txt\"\n",
    "with open(file, 'w') as lout:\n",
    "    solution = mdl.solve(trace_log=True, log_output=lout)\n",
    "\n",
    "f = open(file, \"a+\")\n",
    "f.write(str(nb_client))\n",
    "f.write(\"\\r\")\n",
    "f.write(str(nb_capacity))\n",
    "f.close()"
   ]
  },
  {
   "cell_type": "code",
   "execution_count": 13,
   "metadata": {
    "scrolled": false
   },
   "outputs": [
    {
     "name": "stdout",
     "output_type": "stream",
     "text": [
      "solution for: CVRP\n",
      "objective: 1012.37\n",
      "x_0_3=1\n",
      "x_0_6=1\n",
      "x_0_9=1\n",
      "x_0_10=1\n",
      "x_0_12=1\n",
      "x_1_4=1\n",
      "x_2_0=1\n",
      "x_3_1=1\n",
      "x_4_0=1\n",
      "x_5_0=1\n",
      "x_6_8=1\n",
      "x_7_2=1\n",
      "x_8_7=1\n",
      "x_9_5=1\n",
      "x_10_11=1\n",
      "x_11_0=1\n",
      "x_12_0=1\n",
      "u_1=11.000\n",
      "u_2=15.000\n",
      "u_3=5.000\n",
      "u_4=15.000\n",
      "u_5=15.000\n",
      "u_6=5.000\n",
      "u_7=14.000\n",
      "u_8=8.000\n",
      "u_9=7.000\n",
      "u_10=8.000\n",
      "u_11=15.000\n",
      "u_12=9.000\n",
      "\n"
     ]
    }
   ],
   "source": [
    "# Impression de la solution\n",
    "print(solution)"
   ]
  },
  {
   "cell_type": "code",
   "execution_count": 14,
   "metadata": {},
   "outputs": [
    {
     "data": {
      "text/plain": [
       "<JobSolveStatus.OPTIMAL_SOLUTION: 2>"
      ]
     },
     "execution_count": 14,
     "metadata": {},
     "output_type": "execute_result"
    }
   ],
   "source": [
    "# Indicateur de solution optimal ou non (2 = optimal, 1 = non-optimal)\n",
    "solution.solve_status"
   ]
  },
  {
   "cell_type": "code",
   "execution_count": 15,
   "metadata": {},
   "outputs": [],
   "source": [
    "# on identifie les arrêtes\n",
    "active_arcs = [a for a in A if x[a].solution_value>0.9]"
   ]
  },
  {
   "cell_type": "code",
   "execution_count": 16,
   "metadata": {
    "scrolled": true
   },
   "outputs": [
    {
     "data": {
      "image/png": "[encoded data removed]",
      "text/plain": [
       "<Figure size 432x288 with 1 Axes>"
      ]
     },
     "metadata": {
      "needs_background": "light"
     },
     "output_type": "display_data"
    }
   ],
   "source": [
    "plt.scatter(loc_x[1:],loc_y[1:],c='b')\n",
    "for i in N:\n",
    "    plt.annotate('$q_%d=%d$'%(i,q[i]),(loc_x[i]+2, loc_y[i]))\n",
    "    for i,j in active_arcs:\n",
    "        # on met en couleur les arrêtes actives\n",
    "        plt.plot([loc_x[i], loc_x[j]],[loc_y[i],loc_y[j]],c='g',alpha=0.3)\n",
    "    plt.plot(loc_x[0],loc_y[0],c='r',marker='s')\n",
    "    plt.axis('equal');"
   ]
  }
 ],
 "metadata": {
  "kernelspec": {
   "display_name": "Python 3",
   "language": "python",
   "name": "python3"
  },
  "language_info": {
   "codemirror_mode": {
    "name": "ipython",
    "version": 3
   },
   "file_extension": ".py",
   "mimetype": "text/x-python",
   "name": "python",
   "nbconvert_exporter": "python",
   "pygments_lexer": "ipython3",
   "version": "3.7.3"
  }
 },
 "nbformat": 4,
 "nbformat_minor": 2
}
